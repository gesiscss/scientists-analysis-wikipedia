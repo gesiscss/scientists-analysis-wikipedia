{
 "cells": [
  {
   "cell_type": "code",
   "execution_count": 3,
   "metadata": {},
   "outputs": [
    {
     "name": "stdout",
     "output_type": "stream",
     "text": [
      "Populating the interactive namespace from numpy and matplotlib\n"
     ]
    },
    {
     "name": "stderr",
     "output_type": "stream",
     "text": [
      "C:\\Anaconda2\\lib\\site-packages\\IPython\\core\\magics\\pylab.py:161: UserWarning: pylab import has clobbered these variables: ['f']\n",
      "`%matplotlib` prevents importing * from pylab and numpy\n",
      "  \"\\n`%matplotlib` prevents importing * from pylab and numpy\"\n"
     ]
    }
   ],
   "source": [
    "%pylab inline\n",
    "import time\n",
    "from collections import defaultdict\n",
    "import json\n",
    "import pandas as pd\n",
    "import os\n",
    "import sys\n",
    "stdout = sys.stdout\n",
    "reload(sys)\n",
    "sys.setdefaultencoding('utf-8')\n",
    "sys.stdout = stdout\n",
    "\n",
    "\n",
    "\n",
    "import numpy as np\n",
    "import requests\n",
    "import json \n",
    "\n",
    "from datetime import datetime\n",
    "\n",
    "\n",
    "from textblob import TextBlob\n",
    "\n",
    "#import seaborn as sns"
   ]
  },
  {
   "cell_type": "code",
   "execution_count": 1,
   "metadata": {},
   "outputs": [],
   "source": [
    "#import matplotlib as mpl\n",
    "#import matplotlib.pyplot as plt\n",
    "#import seaborn.apionly as sns\n",
    "\n",
    "#import imp\n",
    "#imp.reload(mpl); imp.reload(plt); imp.reload(sns)"
   ]
  },
  {
   "cell_type": "code",
   "execution_count": 4,
   "metadata": {},
   "outputs": [],
   "source": []
  },
  {
   "cell_type": "code",
   "execution_count": 77,
   "metadata": {
    "scrolled": false
   },
   "outputs": [
    {
     "name": "stdout",
     "output_type": "stream",
     "text": [
      "<class 'pandas.core.frame.DataFrame'>\n",
      "Index: 262 entries, https://en.wikipedia.org/wiki/Ada_Yonath to https://en.wikipedia.org/wiki/Zhong_Lin_Wang\n",
      "Data columns (total 8 columns):\n",
      "Award_date      262 non-null object\n",
      "Page_created    262 non-null object\n",
      "Name            262 non-null object\n",
      "Gender          262 non-null object\n",
      "Award           262 non-null object\n",
      "Status          262 non-null object\n",
      "Field           262 non-null object\n",
      "Year            262 non-null object\n",
      "dtypes: object(8)\n",
      "memory usage: 18.4+ KB\n"
     ]
    },
    {
     "data": {
      "text/plain": [
       "(730851.0, 736330.0)"
      ]
     },
     "execution_count": 77,
     "metadata": {},
     "output_type": "execute_result"
    },
    {
     "data": {
      "image/png": "[encoded data removed]",
      "text/plain": [
       "<matplotlib.figure.Figure at 0x2c8944e0>"
      ]
     },
     "metadata": {},
     "output_type": "display_data"
    }
   ],
   "source": [
    "with open(\"seed_creation_date.json\",\"r\") as f:\n",
    "    sci_aw_dict=json.load(f,encoding=\"utf-8\")\n",
    "df_aw=pd.DataFrame.from_dict(sci_aw_dict,orient=\"index\")\n",
    "df_aw.info()\n",
    "\n",
    "df_aw.Page_created=pd.to_datetime(df_aw.Page_created)\n",
    "df_aw.Page_created=df_aw.Page_created.apply(lambda x: x.date() )\n",
    "df_aw.Page_created.hist(bins=30)\n",
    "plt.xlim(datetime(2002,1,1),datetime(2017,1,1))"
   ]
  },
  {
   "cell_type": "code",
   "execution_count": 88,
   "metadata": {},
   "outputs": [
    {
     "name": "stdout",
     "output_type": "stream",
     "text": [
      "0.656488549618\n",
      "172\n"
     ]
    }
   ],
   "source": [
    "print 172./262\n",
    "print len(df_aw[df_aw.Page_created<datetime(2008,1,1).date()])#172 out of 262\n"
   ]
  },
  {
   "cell_type": "code",
   "execution_count": 84,
   "metadata": {},
   "outputs": [
    {
     "name": "stdout",
     "output_type": "stream",
     "text": [
      "<class 'pandas.core.frame.DataFrame'>\n",
      "Index: 276 entries, https://en.wikipedia.org/wiki/%C4%90%C3%A0m_Thanh_S%C6%A1n to https://en.wikipedia.org/wiki/Zolt%C3%A1n_Szab%C3%B3_(mathematician)\n",
      "Data columns (total 3 columns):\n",
      "Page_created    276 non-null object\n",
      "Field           276 non-null object\n",
      "Name            276 non-null object\n",
      "dtypes: object(3)\n",
      "memory usage: 8.6+ KB\n"
     ]
    },
    {
     "data": {
      "text/plain": [
       "(730910.0, 736330.0)"
      ]
     },
     "execution_count": 84,
     "metadata": {},
     "output_type": "execute_result"
    },
    {
     "data": {
      "image/png": "[encoded data removed]",
      "text/plain": [
       "<matplotlib.figure.Figure at 0x56f9e9e8>"
      ]
     },
     "metadata": {},
     "output_type": "display_data"
    }
   ],
   "source": [
    "with open(\"baseline_creation_date.json\",\"r\") as f:\n",
    "    sci_naw_dict=json.load(f,encoding=\"utf-8\")\n",
    "df_naw=pd.DataFrame.from_dict(sci_naw_dict,orient=\"index\")\n",
    "df_naw.info()\n",
    "\n",
    "df_naw.Page_created=pd.to_datetime(df_naw.Page_created)\n",
    "df_naw.Page_created=df_naw.Page_created.apply(lambda x: x.date() )\n",
    "df_naw.Page_created.hist(bins=30)\n",
    "plt.xlim(datetime(2002,3,1),datetime(2017,1,1))"
   ]
  },
  {
   "cell_type": "code",
   "execution_count": 87,
   "metadata": {
    "scrolled": true
   },
   "outputs": [
    {
     "name": "stdout",
     "output_type": "stream",
     "text": [
      "0.380434782609\n",
      "105\n"
     ]
    }
   ],
   "source": [
    "print 105./276\n",
    "print len(df_naw[df_naw.Page_created<datetime(2008,1,1).date()]) #105 out of 276\n"
   ]
  },
  {
   "cell_type": "markdown",
   "metadata": {},
   "source": [
    "# variant 2 from revisions"
   ]
  },
  {
   "cell_type": "code",
   "execution_count": 72,
   "metadata": {},
   "outputs": [
    {
     "name": "stdout",
     "output_type": "stream",
     "text": [
      "13642\n",
      "<class 'pandas.core.frame.DataFrame'>\n",
      "Int64Index: 275 entries, 0 to 24119\n",
      "Data columns (total 4 columns):\n",
      "article         275 non-null object\n",
      "text            275 non-null object\n",
      "timestamp       275 non-null object\n",
      "Page_created    275 non-null object\n",
      "dtypes: object(4)\n",
      "memory usage: 10.7+ KB\n",
      "None\n"
     ]
    },
    {
     "data": {
      "text/plain": [
       "(730851.0, 736330.0)"
      ]
     },
     "execution_count": 72,
     "metadata": {},
     "output_type": "execute_result"
    },
    {
     "data": {
      "image/png": "[encoded data removed]",
      "text/plain": [
       "<matplotlib.figure.Figure at 0x22b94828>"
      ]
     },
     "metadata": {},
     "output_type": "display_data"
    }
   ],
   "source": [
    "df_b=pd.read_csv(\"baseline_revisions.csv\",sep=\"\\t\")\n",
    "\n",
    "df_b=df_b[[\"article\",\"text\",\"timestamp\"]]\n",
    "df_b=df_b[~df_b.text.isnull()]\n",
    "df_b.timestamp=pd.to_datetime(df_b.timestamp)\n",
    "df_b.timestamp=df_b.timestamp.apply(lambda x: x.date() )\n",
    "df_b.drop_duplicates([\"timestamp\",\"article\"],keep=\"first\",inplace=True)\n",
    "print len(df_b)\n",
    "\n",
    "\n",
    "created_dict={}\n",
    "g=df_b.groupby(\"article\")\n",
    "for article_name,series in g:\n",
    "    created_dict.update( {article_name:series.timestamp.min()})\n",
    "\n",
    "df_b[\"Page_created\"]=df_b.article.apply(lambda x: created_dict[x])\n",
    "df_b.drop_duplicates([\"article\"],keep=\"first\",inplace=True)\n",
    "print df_b.info()\n",
    "df_b.Page_created.hist(bins=30)\n",
    "plt.xlim(datetime(2002,1,1),datetime(2017,1,1))"
   ]
  },
  {
   "cell_type": "code",
   "execution_count": 73,
   "metadata": {},
   "outputs": [
    {
     "name": "stdout",
     "output_type": "stream",
     "text": [
      "31767\n",
      "<class 'pandas.core.frame.DataFrame'>\n",
      "Int64Index: 262 entries, 0 to 62842\n",
      "Data columns (total 4 columns):\n",
      "article         262 non-null object\n",
      "text            262 non-null object\n",
      "timestamp       262 non-null object\n",
      "Page_created    262 non-null object\n",
      "dtypes: object(4)\n",
      "memory usage: 10.2+ KB\n",
      "None\n"
     ]
    },
    {
     "data": {
      "text/plain": [
       "(730851.0, 736330.0)"
      ]
     },
     "execution_count": 73,
     "metadata": {},
     "output_type": "execute_result"
    },
    {
     "data": {
      "image/png": "[encoded data removed]",
      "text/plain": [
       "<matplotlib.figure.Figure at 0x2268b710>"
      ]
     },
     "metadata": {},
     "output_type": "display_data"
    }
   ],
   "source": [
    "df_s=pd.read_csv(\"seed_revisions.csv\",sep=\"\\t\")\n",
    "\n",
    "df_s=df_b[[\"article\",\"text\",\"timestamp\"]]\n",
    "df_b=df_b[~df_b.text.isnull()]\n",
    "df_b.timestamp=pd.to_datetime(df_b.timestamp)\n",
    "df_b.timestamp=df_b.timestamp.apply(lambda x: x.date() )\n",
    "df_b.drop_duplicates([\"timestamp\",\"article\"],keep=\"first\",inplace=True)\n",
    "print len(df_b)\n",
    "\n",
    "\n",
    "created_dict={}\n",
    "g=df_b.groupby(\"article\")\n",
    "for article_name,series in g:\n",
    "    created_dict.update( {article_name:series.timestamp.min()})\n",
    "\n",
    "df_b[\"Page_created\"]=df_b.article.apply(lambda x: created_dict[x])\n",
    "df_b.drop_duplicates([\"article\"],keep=\"first\",inplace=True)\n",
    "print df_b.info()\n",
    "df_b.Page_created.hist(bins=30)\n",
    "plt.xlim(datetime(2002,1,1),datetime(2017,1,1))"
   ]
  },
  {
   "cell_type": "code",
   "execution_count": 74,
   "metadata": {},
   "outputs": [
    {
     "data": {
      "text/plain": [
       "<matplotlib.axes._subplots.AxesSubplot at 0x23532cf8>"
      ]
     },
     "execution_count": 74,
     "metadata": {},
     "output_type": "execute_result"
    },
    {
     "data": {
      "image/png": "[encoded data removed]",
      "text/plain": [
       "<matplotlib.figure.Figure at 0x231a9e10>"
      ]
     },
     "metadata": {},
     "output_type": "display_data"
    }
   ],
   "source": [
    "df_b.Page_created.hist(bins=30)"
   ]
  },
  {
   "cell_type": "code",
   "execution_count": null,
   "metadata": {},
   "outputs": [],
   "source": []
  }
 ],
 "metadata": {
  "kernelspec": {
   "display_name": "Python 2",
   "language": "python",
   "name": "python2"
  },
  "language_info": {
   "codemirror_mode": {
    "name": "ipython",
    "version": 2
   },
   "file_extension": ".py",
   "mimetype": "text/x-python",
   "name": "python",
   "nbconvert_exporter": "python",
   "pygments_lexer": "ipython2",
   "version": "2.7.14"
  }
 },
 "nbformat": 4,
 "nbformat_minor": 2
}
